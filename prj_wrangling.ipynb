{
 "cells": [
  {
   "cell_type": "code",
   "execution_count": 15,
   "metadata": {},
   "outputs": [],
   "source": [
    "# Install dependency packges if you don't already have them\n",
    "\n",
    "# !pip install requests beautifulsoup4\n",
    "# !pip install pandas numpy\n",
    "# !pip install xlrd'\n",
    "# !pip install --upgrade jupyter "
   ]
  },
  {
   "cell_type": "code",
   "execution_count": 16,
   "metadata": {},
   "outputs": [],
   "source": [
    "import requests\n",
    "from bs4 import BeautifulSoup\n",
    "import os\n",
    "from urllib.parse import urljoin\n",
    "import pandas as pd\n",
    "import seaborn as sns\n",
    "from matplotlib import pyplot as plt"
   ]
  },
  {
   "cell_type": "code",
   "execution_count": 17,
   "metadata": {},
   "outputs": [],
   "source": [
    "# get an object to represent the website contents\n",
    "\n",
    "url = \"https://www.census.gov/data/tables/time-series/demo/geographic-mobility/state-to-state-migration.html\"\n",
    "r = requests.get(url)\n",
    "soup = BeautifulSoup(r.text, 'html.parser')"
   ]
  },
  {
   "cell_type": "code",
   "execution_count": 18,
   "metadata": {},
   "outputs": [],
   "source": [
    "# this puts everything into the \"data\" folder of your current directory. So only run this when you are in your root project directory.\n",
    "## this is just commented out to save time\n",
    "\n",
    "# for link in soup.find_all('a'):\n",
    "#     href = link.get('href')\n",
    "#     if href and href.endswith('.xls'):\n",
    "#         xls_url = urljoin(url, href)\n",
    "#         print(f\"Downloading: {xls_url}\")  # Debug output\n",
    "#         xls_response = requests.get(xls_url)\n",
    "#         filename = os.path.join('data', os.path.basename(xls_url))\n",
    "#         with open(filename, 'wb') as f:\n",
    "#             f.write(xls_response.content)\n",
    "# print(\"Downloaded all XLS files.\")"
   ]
  },
  {
   "cell_type": "code",
   "execution_count": 19,
   "metadata": {},
   "outputs": [],
   "source": [
    "def clean_acs_from_path(df_path):\n",
    "    \"\"\"\n",
    "    Rename the columns in a ACS migration dataframe from excel. This does a lot of stuff:\n",
    "        -removes header and footer (finds only cols starting with a US state name plus some other key ones)\n",
    "        -renames and makes header all the state cols and leader cols (if there are any)\n",
    "\n",
    "    Also make sure you have the states.txt file in your current directory. \n",
    "\n",
    "    :param df_path: the path to the xls file where the data is stored. make sure, if relative, you're starting in the right place\n",
    "    :returns: a cleaned dataframe with col1 = where people currently lived, possibly some leader columns detailing the population of that state,\n",
    "    and definitely two columns for every state showing where people moved from one year ago.\n",
    "    \"\"\"\n",
    "    try:\n",
    "        df = pd.read_excel(df_path, skiprows=6) #create the dataframe\n",
    "        df.columns.values[0] = 'State'\n",
    "\n",
    "        bad_col_list = [i for i in range(11, len(df.columns), 11)] ## every 11th column starting with 11th .. these are the copied \"current residence\" columns.\n",
    "        df.drop(df.columns[bad_col_list], axis=1, inplace=True)\n",
    "\n",
    "        new_names = [\n",
    "            \"Current Population\",\n",
    "            \"Current Population MOE\",\n",
    "            \"Same house 1 year ago\",\n",
    "            \"Same house 1 year ago MOE\",\n",
    "            \"Same state of residence 1 year ago\",\n",
    "            \"Same state of residence 1 year ago MOE\",\n",
    "            \"Total Inmigration\",\n",
    "            \"Total Inmigration MOE\"\n",
    "        ]\n",
    "\n",
    "        #not all of the sheets are formatted the same way so we have to wrap this in if else\n",
    "        if df.columns.values[1] == \"Unnamed: 1\":\n",
    "            # print(\"changing column values\") #debug\n",
    "            for i in range(len(new_names)):\n",
    "                df.columns.values[i+1] = new_names[i]\n",
    "        else:\n",
    "            pass\n",
    "        \n",
    "        # get rid of all the rows not actually reflecting \"states\"\n",
    "        # I have this saved in another txt file for easier editing\n",
    "        with open(\"state_names.txt\", \"r\") as f: \n",
    "            state_names = [line.strip() for line in f]\n",
    "\n",
    "        df = df[df['State'].isin(state_names)] \n",
    "\n",
    "        # rename all the state sub columns (estimate v MOE)\n",
    "        for state in state_names:\n",
    "                if state in df.columns:\n",
    "                    idx = df.columns.get_loc(state)\n",
    "                    df.rename(columns={state: state, df.columns[idx + 1]: state + \" MOE\"}, inplace=True)\n",
    "        return df\n",
    "    except Exception as e:\n",
    "        print(f\"Error processing file {df_path}: {e}\")\n",
    "        return None"
   ]
  },
  {
   "cell_type": "code",
   "execution_count": 20,
   "metadata": {},
   "outputs": [],
   "source": [
    "def acs_df_to_pure_state(df):\n",
    "    \"\"\"\n",
    "    Trims the frame so now all we have is the state column and then all the _inflow_ from other states\n",
    "\n",
    "    :returns: a dataframe with 1st col state and all other columns 'colx' are estimates for how many people currently \n",
    "    in state used to live in colx. \n",
    "    \"\"\"\n",
    "    with open(\"state_names.txt\", \"r\") as f: \n",
    "            state_names = [line.strip() for line in f]\n",
    "    state_names.insert(0, \"State\") # we want our original identifying column\n",
    "    df = df.copy()\n",
    "    df = df.filter(items=state_names)\n",
    "    return df"
   ]
  },
  {
   "cell_type": "code",
   "execution_count": null,
   "metadata": {},
   "outputs": [],
   "source": [
    "# now we have our data downloaded, we explore the 2021 file:\n",
    "df_path = \"Data/State_to_State_Migrations_Table_2021.xls\"\n",
    "df = clean_acs_from_path(df_path)\n",
    "df_pure = acs_df_to_pure_state(df) \n",
    "df_pure\n",
    "## sidenote I have NO idea what the column \"total.1\" means, either here or in the original xls"
   ]
  },
  {
   "cell_type": "code",
   "execution_count": null,
   "metadata": {},
   "outputs": [],
   "source": [
    "df.sort_values(by=\"Total Inmigration\", ascending=False).head(11)"
   ]
  },
  {
   "cell_type": "code",
   "execution_count": 23,
   "metadata": {},
   "outputs": [],
   "source": [
    "#commented out to save time; this takes a while and frankly is a little useless I think\n",
    "\n",
    "# df_ind = df.set_index(\"State\")\n",
    "# sns.pairplot(df_ind)"
   ]
  },
  {
   "cell_type": "code",
   "execution_count": null,
   "metadata": {},
   "outputs": [],
   "source": [
    "#seems like maybe there is a link between current population and inmigration. mess around with a correlation heat map...\n",
    "df_ind = df.set_index(\"State\")\n",
    "df_ind = df_ind[['Current Population', 'Total Inmigration', 'Same state of residence 1 year ago', 'California', 'New York', 'Wyoming', 'Georgia', 'Vermont', 'Illinois' ]]\n",
    "corr_mat = df_ind.corr()\n",
    "sns.heatmap(corr_mat, cmap='coolwarm')\n",
    "\n",
    "# this seems weird. all the correlations are very high. \n",
    "# I guess the more people are coming to your state from X, the more they are from Y, pretty much regardless??"
   ]
  },
  {
   "cell_type": "code",
   "execution_count": null,
   "metadata": {},
   "outputs": [],
   "source": [
    "#create a new column to see where most people are coming from.\n",
    "df_ind = df_pure.set_index(\"State\").drop(columns=\"Total.1\")\n",
    "df_ind['Inflow Max'] = df_ind.idxmax(axis=1)\n",
    "df_ind['Inflow Max'].value_counts()\n"
   ]
  }
 ],
 "metadata": {
  "kernelspec": {
   "display_name": "base",
   "language": "python",
   "name": "python3"
  },
  "language_info": {
   "codemirror_mode": {
    "name": "ipython",
    "version": 3
   },
   "file_extension": ".py",
   "mimetype": "text/x-python",
   "name": "python",
   "nbconvert_exporter": "python",
   "pygments_lexer": "ipython3",
   "version": "3.12.3"
  }
 },
 "nbformat": 4,
 "nbformat_minor": 2
}
