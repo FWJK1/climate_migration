{
 "cells": [
  {
   "cell_type": "code",
   "execution_count": 1,
   "metadata": {},
   "outputs": [],
   "source": [
    "import pandas as pd\n",
    "import os\n",
    "import numpy as np"
   ]
  },
  {
   "cell_type": "code",
   "execution_count": 2,
   "metadata": {},
   "outputs": [
    {
     "data": {
      "text/plain": [
       "'c:\\\\Users\\\\fitsl\\\\Documents\\\\Programming\\\\UVM Programming Classes\\\\Data Science I\\\\Project'"
      ]
     },
     "execution_count": 2,
     "metadata": {},
     "output_type": "execute_result"
    }
   ],
   "source": [
    "\n",
    "def find_repo_root(start_path):\n",
    "    current_path = os.path.abspath(start_path)\n",
    "    \n",
    "    while True:\n",
    "        # Check for the existence of the .git directory or other indicators\n",
    "        if os.path.isdir(os.path.join(current_path, '.git')) or \\\n",
    "           os.path.isfile(os.path.join(current_path, 'README.md')):\n",
    "            return current_path\n",
    "        \n",
    "        parent_path = os.path.dirname(current_path)\n",
    "        \n",
    "        # Stop if we reach the root directory\n",
    "        if parent_path == current_path:\n",
    "            break\n",
    "        \n",
    "        current_path = parent_path\n",
    "\n",
    "    return None  # Return None if not found\n",
    "\n",
    "root = find_repo_root(os.getcwd())\n",
    "root"
   ]
  },
  {
   "cell_type": "code",
   "execution_count": 3,
   "metadata": {},
   "outputs": [],
   "source": [
    "df1 = pd.read_parquet(f\"{root}/Data/Storm events/events_db_chunk_1.parquet\")\n",
    "df2 = pd.read_parquet(f\"{root}/Data/Storm events/events_db_chunk_2.parquet\")\n",
    "df3 = pd.read_parquet(f\"{root}/Data/Storm events/events_db_chunk_3.parquet\")\n",
    "df4 = pd.read_parquet(f\"{root}/Data/Storm events/events_db_chunk_4.parquet\")\n",
    "\n",
    "df = pd.concat([df1, df2, df3, df4])\n",
    "df['State FIPS'] = df['State FIPS'].apply(lambda x: f\"{int(x):02d}\")\n",
    "df['County/Zone FIPS'] = df['County/Zone FIPS'].apply(lambda x: f\"{int(x):03d}\")\n",
    "df['FIPS'] = df['State FIPS'] + df['County/Zone FIPS']\n",
    "df = df[df['Year'] >= 2000]\n",
    "df['Deaths'] = df['Direct Deaths'] + df['Direct Deaths']\n",
    "df['Injuries'] = df['Direct Injuries'] + df['Indirect Injuries']\n",
    "\n",
    "\n"
   ]
  },
  {
   "cell_type": "code",
   "execution_count": 4,
   "metadata": {},
   "outputs": [],
   "source": [
    "df['Property Damage'].value_counts()\n",
    "def convert_to_number(value):\n",
    "    if pd.isna(value):\n",
    "        return 0\n",
    "    value = value.lower()\n",
    "    if value == 'k':\n",
    "        return 1000\n",
    "    if value.endswith('k'):\n",
    "        return int(float(value[:-1]) * 1000)\n",
    "    elif value.endswith('m'):\n",
    "        return int(float(value[:-1]) * 1000000)\n",
    "    elif value.endswith('h'):\n",
    "        return int(float(value[:-1]) * 100)\n",
    "    elif value.endswith('b'):\n",
    "        return int(float(value[:-1]) * 1000000000)\n",
    "    else:\n",
    "        return 0\n",
    "    "
   ]
  },
  {
   "cell_type": "code",
   "execution_count": 5,
   "metadata": {},
   "outputs": [
    {
     "name": "stderr",
     "output_type": "stream",
     "text": [
      "C:\\Users\\fitsl\\AppData\\Local\\Temp\\ipykernel_4560\\30878043.py:2: RuntimeWarning: divide by zero encountered in log10\n",
      "  df['property_log'] = df['property_num'].map(lambda x: np.log10(x))\n"
     ]
    }
   ],
   "source": [
    "df['property_num'] = df['Property Damage'].map(lambda x : convert_to_number(x))\n",
    "df['property_log'] = df['property_num'].map(lambda x: np.log10(x))"
   ]
  }
 ],
 "metadata": {
  "kernelspec": {
   "display_name": "myenv",
   "language": "python",
   "name": "python3"
  },
  "language_info": {
   "codemirror_mode": {
    "name": "ipython",
    "version": 3
   },
   "file_extension": ".py",
   "mimetype": "text/x-python",
   "name": "python",
   "nbconvert_exporter": "python",
   "pygments_lexer": "ipython3",
   "version": "3.13.0"
  }
 },
 "nbformat": 4,
 "nbformat_minor": 2
}
